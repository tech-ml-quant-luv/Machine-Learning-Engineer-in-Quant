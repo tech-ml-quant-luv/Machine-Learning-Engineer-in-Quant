{
 "cells": [
  {
   "cell_type": "markdown",
   "id": "a3901e89",
   "metadata": {},
   "source": [
    "#### Starting up"
   ]
  },
  {
   "cell_type": "code",
   "execution_count": 259,
   "id": "69031a8c",
   "metadata": {},
   "outputs": [],
   "source": [
    "import pandas as pd\n",
    "import numpy as np\n",
    "import matplotlib.pyplot as plt\n",
    "import seaborn as sns"
   ]
  },
  {
   "cell_type": "code",
   "execution_count": 260,
   "id": "81793cf4",
   "metadata": {},
   "outputs": [
    {
     "data": {
      "application/vnd.microsoft.datawrangler.viewer.v0+json": {
       "columns": [
        {
         "name": "index",
         "rawType": "int64",
         "type": "integer"
        },
        {
         "name": "area_m2",
         "rawType": "int64",
         "type": "integer"
        },
        {
         "name": "price_usd",
         "rawType": "float64",
         "type": "float"
        },
        {
         "name": "lat",
         "rawType": "float64",
         "type": "float"
        },
        {
         "name": "lon",
         "rawType": "float64",
         "type": "float"
        },
        {
         "name": "place",
         "rawType": "object",
         "type": "string"
        }
       ],
       "ref": "34dff6a2-4e17-4ae1-8ab4-1c6aef541dd2",
       "rows": [
        [
         "0",
         "110",
         "187230.85",
         "-9.6443051",
         "-35.7088142",
         "Maceió"
        ],
        [
         "1",
         "65",
         "81133.37",
         "-9.6430934",
         "-35.70484",
         "Maceió"
        ],
        [
         "2",
         "99",
         "146013.2",
         "-9.622837",
         "-35.719556",
         "Maceió"
        ]
       ],
       "shape": {
        "columns": 5,
        "rows": 3
       }
      },
      "text/html": [
       "<div>\n",
       "<style scoped>\n",
       "    .dataframe tbody tr th:only-of-type {\n",
       "        vertical-align: middle;\n",
       "    }\n",
       "\n",
       "    .dataframe tbody tr th {\n",
       "        vertical-align: top;\n",
       "    }\n",
       "\n",
       "    .dataframe thead th {\n",
       "        text-align: right;\n",
       "    }\n",
       "</style>\n",
       "<table border=\"1\" class=\"dataframe\">\n",
       "  <thead>\n",
       "    <tr style=\"text-align: right;\">\n",
       "      <th></th>\n",
       "      <th>area_m2</th>\n",
       "      <th>price_usd</th>\n",
       "      <th>lat</th>\n",
       "      <th>lon</th>\n",
       "      <th>place</th>\n",
       "    </tr>\n",
       "  </thead>\n",
       "  <tbody>\n",
       "    <tr>\n",
       "      <th>0</th>\n",
       "      <td>110</td>\n",
       "      <td>187230.85</td>\n",
       "      <td>-9.644305</td>\n",
       "      <td>-35.708814</td>\n",
       "      <td>Maceió</td>\n",
       "    </tr>\n",
       "    <tr>\n",
       "      <th>1</th>\n",
       "      <td>65</td>\n",
       "      <td>81133.37</td>\n",
       "      <td>-9.643093</td>\n",
       "      <td>-35.704840</td>\n",
       "      <td>Maceió</td>\n",
       "    </tr>\n",
       "    <tr>\n",
       "      <th>2</th>\n",
       "      <td>99</td>\n",
       "      <td>146013.20</td>\n",
       "      <td>-9.622837</td>\n",
       "      <td>-35.719556</td>\n",
       "      <td>Maceió</td>\n",
       "    </tr>\n",
       "  </tbody>\n",
       "</table>\n",
       "</div>"
      ],
      "text/plain": [
       "   area_m2  price_usd       lat        lon   place\n",
       "0      110  187230.85 -9.644305 -35.708814  Maceió\n",
       "1       65   81133.37 -9.643093 -35.704840  Maceió\n",
       "2       99  146013.20 -9.622837 -35.719556  Maceió"
      ]
     },
     "execution_count": 260,
     "metadata": {},
     "output_type": "execute_result"
    }
   ],
   "source": [
    "df = pd.read_csv(\"./brasil_real_estate_fixed.csv\")\n",
    "df.head(3)"
   ]
  },
  {
   "cell_type": "code",
   "execution_count": 261,
   "id": "2460e58a",
   "metadata": {},
   "outputs": [
    {
     "name": "stdout",
     "output_type": "stream",
     "text": [
      "            area_m2  price_usd       lat       lon\n",
      "area_m2    1.000000   0.741579 -0.091623 -0.007157\n",
      "price_usd  0.741579   1.000000  0.068892  0.011039\n",
      "lat       -0.091623   0.068892  1.000000 -0.007918\n",
      "lon       -0.007157   0.011039 -0.007918  1.000000\n"
     ]
    },
    {
     "data": {
      "text/plain": [
       "<Axes: >"
      ]
     },
     "execution_count": 261,
     "metadata": {},
     "output_type": "execute_result"
    },
    {
     "data": {
      "image/png": "[encoded data removed]",
      "text/plain": [
       "<Figure size 640x480 with 2 Axes>"
      ]
     },
     "metadata": {},
     "output_type": "display_data"
    }
   ],
   "source": [
    "correlation_matrix = df.select_dtypes(\"number\").corr()\n",
    "print(correlation_matrix)\n",
    "sns.heatmap(correlation_matrix)"
   ]
  },
  {
   "cell_type": "code",
   "execution_count": 262,
   "id": "6c284a02",
   "metadata": {},
   "outputs": [],
   "source": [
    "X = df[\"area_m2\"]\n",
    "y = df[\"price_usd\"]"
   ]
  },
  {
   "cell_type": "markdown",
   "id": "e924373c",
   "metadata": {},
   "source": [
    "#### Coding the Model"
   ]
  },
  {
   "cell_type": "code",
   "execution_count": 263,
   "id": "7b49628b",
   "metadata": {},
   "outputs": [],
   "source": [
    "def b_gradient(y,X,m,b):\n",
    "    y_pred = m*X+b\n",
    "    return (-2/len(X)) * np.sum(y-y_pred)\n"
   ]
  },
  {
   "cell_type": "code",
   "execution_count": 264,
   "id": "f7634154",
   "metadata": {},
   "outputs": [],
   "source": [
    "def m_gradient(y,X,m,b):\n",
    "    y_pred = m*X+b\n",
    "    return (-2/len(X)) * np.sum(X*(y-y_pred))\n"
   ]
  },
  {
   "cell_type": "code",
   "execution_count": 265,
   "id": "4ce31b34",
   "metadata": {},
   "outputs": [],
   "source": [
    "def loss_function(y,X,m,b):\n",
    "    y_pred = m*X+b\n",
    "    return np.mean((y-y_pred)**2)"
   ]
  },
  {
   "cell_type": "code",
   "execution_count": 266,
   "id": "55d4b6d4",
   "metadata": {},
   "outputs": [],
   "source": [
    "def gradient_descent(y,X,learning_rate=0.01,epochs=1000):\n",
    "    m=0\n",
    "    b=0\n",
    "    for i in range(epochs):\n",
    "        #calculating partial derivatives\n",
    "        dm=m_gradient(y,X,m,b)\n",
    "        db=b_gradient(y,X,m,b)\n",
    "        #updating the values of m and b using the partial derivatives\n",
    "        m-=learning_rate *dm\n",
    "        b-=learning_rate*db\n",
    "        if i%100==0:\n",
    "            print(f\"Epoch {i}:Loss = {loss_function(y,X,m,b)}\")\n",
    "    return m,b\n"
   ]
  },
  {
   "cell_type": "code",
   "execution_count": 267,
   "id": "fd4c831d",
   "metadata": {},
   "outputs": [],
   "source": [
    "def predict(X, m, b, y=None, verbose=False):\n",
    "    y_predicted = m * X + b\n",
    "    \n",
    "    if verbose and y is not None:\n",
    "        comparison = pd.DataFrame({\"Actual\": y, \"Predicted\": y_predicted})\n",
    "        print(comparison)\n",
    "    \n",
    "    return y_predicted\n"
   ]
  },
  {
   "cell_type": "code",
   "execution_count": 268,
   "id": "dbe3b2cd",
   "metadata": {},
   "outputs": [],
   "source": [
    "# Compute min and max from training data\n",
    "X_min = X_train.min()\n",
    "X_max = X_train.max()\n",
    "\n",
    "y_min = y_train.min()\n",
    "y_max = y_train.max()\n",
    "\n",
    "# Scale train data to [0,1]\n",
    "X_train_scaled = (X_train - X_min) / (X_max - X_min)\n",
    "y_train_scaled = (y_train - y_min) / (y_max - y_min)\n",
    "\n",
    "# Scale test data using train min and max\n",
    "X_test_scaled = (X_test - X_min) / (X_max - X_min)\n",
    "y_test_scaled = (y_test - y_min) / (y_max - y_min)\n"
   ]
  },
  {
   "cell_type": "code",
   "execution_count": 269,
   "id": "ade9b3a2",
   "metadata": {},
   "outputs": [
    {
     "data": {
      "text/plain": [
       "np.float64(0.11475255260645048)"
      ]
     },
     "execution_count": 269,
     "metadata": {},
     "output_type": "execute_result"
    }
   ],
   "source": [
    "loss_function(y_train_scaled,X_train_scaled,0,0)"
   ]
  },
  {
   "cell_type": "code",
   "execution_count": 270,
   "id": "d2edbd61",
   "metadata": {},
   "outputs": [
    {
     "name": "stdout",
     "output_type": "stream",
     "text": [
      "Epoch 0:Loss = 0.11165174157130214\n",
      "Epoch 100:Loss = 0.040931959573101834\n",
      "Epoch 200:Loss = 0.037019642898833756\n",
      "Epoch 300:Loss = 0.034446551697082155\n",
      "Epoch 400:Loss = 0.03232837437284208\n",
      "Epoch 500:Loss = 0.030578209981095856\n",
      "Epoch 600:Loss = 0.029132041195649248\n",
      "Epoch 700:Loss = 0.02793706440905389\n",
      "Epoch 800:Loss = 0.02694964886564275\n",
      "Epoch 900:Loss = 0.026133742258524318\n"
     ]
    }
   ],
   "source": [
    "m,b = gradient_descent(y_train_scaled,X_train_scaled)"
   ]
  },
  {
   "cell_type": "code",
   "execution_count": 271,
   "id": "612fb91e",
   "metadata": {},
   "outputs": [
    {
     "name": "stdout",
     "output_type": "stream",
     "text": [
      "        Actual  Predicted\n",
      "2739  0.104167   0.314777\n",
      "2740  0.166667   0.260316\n",
      "2741  0.817854   0.442641\n",
      "2742  0.625306   0.355030\n",
      "2743  0.423611   0.355030\n",
      "...        ...        ...\n",
      "3419  0.131944   0.170337\n",
      "3420  0.222222   0.210591\n",
      "3421  0.090278   0.267419\n",
      "3422  0.138889   0.175073\n",
      "3423  0.208333   0.229534\n",
      "\n",
      "[685 rows x 2 columns]\n"
     ]
    }
   ],
   "source": [
    "y_pred_scaled = predict(X_test_scaled, m, b, y_test_scaled, verbose=True)\n"
   ]
  },
  {
   "cell_type": "code",
   "execution_count": 279,
   "id": "4ad727d3",
   "metadata": {},
   "outputs": [],
   "source": [
    "# y_pred_scaled: predicted values in 0-1 range\n",
    "y_pred_actual = y_pred_scaled * (y_max - y_min) + y_min\n",
    "\n",
    "# Optional: print a few values\n",
    "df1 = pd.DataFrame({\n",
    "    \"Predicted_scaled\": y_pred_scaled,\n",
    "    \"Predicted_actual\": y_pred_actual,\n",
    "    \"Actual\": y_test\n",
    "})\n"
   ]
  },
  {
   "cell_type": "code",
   "execution_count": 281,
   "id": "ed4308ee",
   "metadata": {},
   "outputs": [
    {
     "data": {
      "image/png": "[encoded data removed]",
      "text/plain": [
       "<Figure size 640x480 with 1 Axes>"
      ]
     },
     "metadata": {},
     "output_type": "display_data"
    }
   ],
   "source": [
    "import matplotlib.pyplot as plt\n",
    "\n",
    "# Scatter of actual test data\n",
    "plt.scatter(X_test, y_test, color=\"blue\", label=\"Actual\")\n",
    "\n",
    "# Line of predicted values\n",
    "plt.plot(X_test, y_pred_actual, color=\"red\", label=\"Predicted\")\n",
    "\n",
    "plt.xlabel(\"Area\")\n",
    "plt.ylabel(\"Price\")\n",
    "plt.title(\"Actual vs Predicted Prices\")\n",
    "plt.legend()\n",
    "plt.show()\n"
   ]
  }
 ],
 "metadata": {
  "kernelspec": {
   "display_name": "VENV_machine_learning_quant",
   "language": "python",
   "name": "python3"
  },
  "language_info": {
   "codemirror_mode": {
    "name": "ipython",
    "version": 3
   },
   "file_extension": ".py",
   "mimetype": "text/x-python",
   "name": "python",
   "nbconvert_exporter": "python",
   "pygments_lexer": "ipython3",
   "version": "3.12.10"
  }
 },
 "nbformat": 4,
 "nbformat_minor": 5
}

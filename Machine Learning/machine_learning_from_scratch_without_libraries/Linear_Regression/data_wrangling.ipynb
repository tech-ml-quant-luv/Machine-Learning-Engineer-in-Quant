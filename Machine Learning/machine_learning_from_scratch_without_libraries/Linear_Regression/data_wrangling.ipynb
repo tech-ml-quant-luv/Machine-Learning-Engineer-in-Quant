{
 "cells": [
  {
   "cell_type": "code",
   "execution_count": 1,
   "id": "c773f702",
   "metadata": {},
   "outputs": [],
   "source": [
    "import numpy as np\n",
    "import pandas as pd\n",
    "import matplotlib.pyplot as plt\n",
    "import seaborn as sns"
   ]
  },
  {
   "cell_type": "code",
   "execution_count": 2,
   "id": "ac986d0d",
   "metadata": {},
   "outputs": [],
   "source": [
    "df = pd.read_excel(\"./brasil_real_estate.xlsx\")"
   ]
  },
  {
   "cell_type": "markdown",
   "id": "19d9d869",
   "metadata": {},
   "source": [
    "#### Data Wrangling"
   ]
  },
  {
   "cell_type": "code",
   "execution_count": 3,
   "id": "210b39e0",
   "metadata": {},
   "outputs": [
    {
     "data": {
      "application/vnd.microsoft.datawrangler.viewer.v0+json": {
       "columns": [
        {
         "name": "index",
         "rawType": "int64",
         "type": "integer"
        },
        {
         "name": "property_type",
         "rawType": "object",
         "type": "string"
        },
        {
         "name": "place_with_parent_names",
         "rawType": "object",
         "type": "string"
        },
        {
         "name": "region",
         "rawType": "object",
         "type": "string"
        },
        {
         "name": "lat-lon",
         "rawType": "object",
         "type": "string"
        },
        {
         "name": "area_m2",
         "rawType": "int64",
         "type": "integer"
        },
        {
         "name": "price_usd",
         "rawType": "object",
         "type": "string"
        }
       ],
       "ref": "bebcf689-8860-4071-84de-054ba9f3c520",
       "rows": [
        [
         "0",
         "apartment",
         "|Brasil|Alagoas|Maceió|",
         "Northeast",
         "-9.6443051,-35.7088142",
         "110",
         "$187,230.85"
        ],
        [
         "1",
         "apartment",
         "|Brasil|Alagoas|Maceió|",
         "Northeast",
         "-9.6430934,-35.70484",
         "65",
         "$81,133.37"
        ],
        [
         "2",
         "house",
         "|Brasil|Alagoas|Maceió|",
         "Northeast",
         "-9.6227033,-35.7297953",
         "211",
         "$154,465.45"
        ],
        [
         "3",
         "apartment",
         "|Brasil|Alagoas|Maceió|",
         "Northeast",
         "-9.622837,-35.719556",
         "99",
         "$146,013.20"
        ],
        [
         "4",
         "apartment",
         "|Brasil|Alagoas|Maceió|",
         "Northeast",
         "-9.654955,-35.700227",
         "55",
         "$101,416.71"
        ]
       ],
       "shape": {
        "columns": 6,
        "rows": 5
       }
      },
      "text/html": [
       "<div>\n",
       "<style scoped>\n",
       "    .dataframe tbody tr th:only-of-type {\n",
       "        vertical-align: middle;\n",
       "    }\n",
       "\n",
       "    .dataframe tbody tr th {\n",
       "        vertical-align: top;\n",
       "    }\n",
       "\n",
       "    .dataframe thead th {\n",
       "        text-align: right;\n",
       "    }\n",
       "</style>\n",
       "<table border=\"1\" class=\"dataframe\">\n",
       "  <thead>\n",
       "    <tr style=\"text-align: right;\">\n",
       "      <th></th>\n",
       "      <th>property_type</th>\n",
       "      <th>place_with_parent_names</th>\n",
       "      <th>region</th>\n",
       "      <th>lat-lon</th>\n",
       "      <th>area_m2</th>\n",
       "      <th>price_usd</th>\n",
       "    </tr>\n",
       "  </thead>\n",
       "  <tbody>\n",
       "    <tr>\n",
       "      <th>0</th>\n",
       "      <td>apartment</td>\n",
       "      <td>|Brasil|Alagoas|Maceió|</td>\n",
       "      <td>Northeast</td>\n",
       "      <td>-9.6443051,-35.7088142</td>\n",
       "      <td>110</td>\n",
       "      <td>$187,230.85</td>\n",
       "    </tr>\n",
       "    <tr>\n",
       "      <th>1</th>\n",
       "      <td>apartment</td>\n",
       "      <td>|Brasil|Alagoas|Maceió|</td>\n",
       "      <td>Northeast</td>\n",
       "      <td>-9.6430934,-35.70484</td>\n",
       "      <td>65</td>\n",
       "      <td>$81,133.37</td>\n",
       "    </tr>\n",
       "    <tr>\n",
       "      <th>2</th>\n",
       "      <td>house</td>\n",
       "      <td>|Brasil|Alagoas|Maceió|</td>\n",
       "      <td>Northeast</td>\n",
       "      <td>-9.6227033,-35.7297953</td>\n",
       "      <td>211</td>\n",
       "      <td>$154,465.45</td>\n",
       "    </tr>\n",
       "    <tr>\n",
       "      <th>3</th>\n",
       "      <td>apartment</td>\n",
       "      <td>|Brasil|Alagoas|Maceió|</td>\n",
       "      <td>Northeast</td>\n",
       "      <td>-9.622837,-35.719556</td>\n",
       "      <td>99</td>\n",
       "      <td>$146,013.20</td>\n",
       "    </tr>\n",
       "    <tr>\n",
       "      <th>4</th>\n",
       "      <td>apartment</td>\n",
       "      <td>|Brasil|Alagoas|Maceió|</td>\n",
       "      <td>Northeast</td>\n",
       "      <td>-9.654955,-35.700227</td>\n",
       "      <td>55</td>\n",
       "      <td>$101,416.71</td>\n",
       "    </tr>\n",
       "  </tbody>\n",
       "</table>\n",
       "</div>"
      ],
      "text/plain": [
       "  property_type  place_with_parent_names     region                 lat-lon  \\\n",
       "0     apartment  |Brasil|Alagoas|Maceió|  Northeast  -9.6443051,-35.7088142   \n",
       "1     apartment  |Brasil|Alagoas|Maceió|  Northeast    -9.6430934,-35.70484   \n",
       "2         house  |Brasil|Alagoas|Maceió|  Northeast  -9.6227033,-35.7297953   \n",
       "3     apartment  |Brasil|Alagoas|Maceió|  Northeast    -9.622837,-35.719556   \n",
       "4     apartment  |Brasil|Alagoas|Maceió|  Northeast    -9.654955,-35.700227   \n",
       "\n",
       "   area_m2    price_usd  \n",
       "0      110  $187,230.85  \n",
       "1       65   $81,133.37  \n",
       "2      211  $154,465.45  \n",
       "3       99  $146,013.20  \n",
       "4       55  $101,416.71  "
      ]
     },
     "execution_count": 3,
     "metadata": {},
     "output_type": "execute_result"
    }
   ],
   "source": [
    "df.head()"
   ]
  },
  {
   "cell_type": "code",
   "execution_count": 4,
   "id": "9be953d7",
   "metadata": {},
   "outputs": [
    {
     "data": {
      "text/plain": [
       "12834"
      ]
     },
     "execution_count": 4,
     "metadata": {},
     "output_type": "execute_result"
    }
   ],
   "source": [
    "len(df)"
   ]
  },
  {
   "cell_type": "code",
   "execution_count": 5,
   "id": "6576ed49",
   "metadata": {},
   "outputs": [
    {
     "data": {
      "application/vnd.microsoft.datawrangler.viewer.v0+json": {
       "columns": [
        {
         "name": "index",
         "rawType": "object",
         "type": "string"
        },
        {
         "name": "0",
         "rawType": "int64",
         "type": "integer"
        }
       ],
       "ref": "663a2f0f-7065-47e9-83ad-73ad8de36ef3",
       "rows": [
        [
         "property_type",
         "0"
        ],
        [
         "place_with_parent_names",
         "0"
        ],
        [
         "region",
         "0"
        ],
        [
         "lat-lon",
         "1283"
        ],
        [
         "area_m2",
         "0"
        ],
        [
         "price_usd",
         "0"
        ]
       ],
       "shape": {
        "columns": 1,
        "rows": 6
       }
      },
      "text/plain": [
       "property_type                 0\n",
       "place_with_parent_names       0\n",
       "region                        0\n",
       "lat-lon                    1283\n",
       "area_m2                       0\n",
       "price_usd                     0\n",
       "dtype: int64"
      ]
     },
     "execution_count": 5,
     "metadata": {},
     "output_type": "execute_result"
    }
   ],
   "source": [
    "df.isna().sum()"
   ]
  },
  {
   "cell_type": "code",
   "execution_count": 6,
   "id": "1c49430d",
   "metadata": {},
   "outputs": [
    {
     "data": {
      "application/vnd.microsoft.datawrangler.viewer.v0+json": {
       "columns": [
        {
         "name": "index",
         "rawType": "object",
         "type": "string"
        },
        {
         "name": "0",
         "rawType": "int64",
         "type": "integer"
        }
       ],
       "ref": "322aa0a6-bb06-402a-8692-3a31f8c8fcbc",
       "rows": [
        [
         "property_type",
         "0"
        ],
        [
         "place_with_parent_names",
         "0"
        ],
        [
         "region",
         "0"
        ],
        [
         "lat-lon",
         "0"
        ],
        [
         "area_m2",
         "0"
        ],
        [
         "price_usd",
         "0"
        ]
       ],
       "shape": {
        "columns": 1,
        "rows": 6
       }
      },
      "text/plain": [
       "property_type              0\n",
       "place_with_parent_names    0\n",
       "region                     0\n",
       "lat-lon                    0\n",
       "area_m2                    0\n",
       "price_usd                  0\n",
       "dtype: int64"
      ]
     },
     "execution_count": 6,
     "metadata": {},
     "output_type": "execute_result"
    }
   ],
   "source": [
    "df.dropna(inplace=True)\n",
    "df.isna().sum()"
   ]
  },
  {
   "cell_type": "code",
   "execution_count": 7,
   "id": "0b345073",
   "metadata": {},
   "outputs": [
    {
     "name": "stdout",
     "output_type": "stream",
     "text": [
      "<class 'pandas.core.frame.DataFrame'>\n",
      "Index: 11551 entries, 0 to 12833\n",
      "Data columns (total 6 columns):\n",
      " #   Column                   Non-Null Count  Dtype \n",
      "---  ------                   --------------  ----- \n",
      " 0   property_type            11551 non-null  object\n",
      " 1   place_with_parent_names  11551 non-null  object\n",
      " 2   region                   11551 non-null  object\n",
      " 3   lat-lon                  11551 non-null  object\n",
      " 4   area_m2                  11551 non-null  int64 \n",
      " 5   price_usd                11551 non-null  object\n",
      "dtypes: int64(1), object(5)\n",
      "memory usage: 631.7+ KB\n"
     ]
    }
   ],
   "source": [
    "df.info()"
   ]
  },
  {
   "cell_type": "code",
   "execution_count": 8,
   "id": "f14094f8",
   "metadata": {},
   "outputs": [],
   "source": [
    "df[[\"lat\",\"lon\"]]=df[\"lat-lon\"].str.split(\",\", expand=True).astype(float)\n",
    "df.drop(columns=[\"lat-lon\"], inplace=True)"
   ]
  },
  {
   "cell_type": "code",
   "execution_count": 9,
   "id": "6b73964c",
   "metadata": {},
   "outputs": [],
   "source": [
    "splits = df[\"place_with_parent_names\"].str.split(\"|\", expand=True)"
   ]
  },
  {
   "cell_type": "code",
   "execution_count": 10,
   "id": "588f46f4",
   "metadata": {},
   "outputs": [
    {
     "data": {
      "application/vnd.microsoft.datawrangler.viewer.v0+json": {
       "columns": [
        {
         "name": "index",
         "rawType": "int64",
         "type": "integer"
        },
        {
         "name": "0",
         "rawType": "object",
         "type": "string"
        },
        {
         "name": "1",
         "rawType": "object",
         "type": "string"
        },
        {
         "name": "2",
         "rawType": "object",
         "type": "string"
        },
        {
         "name": "3",
         "rawType": "object",
         "type": "string"
        },
        {
         "name": "4",
         "rawType": "object",
         "type": "string"
        },
        {
         "name": "5",
         "rawType": "object",
         "type": "unknown"
        }
       ],
       "ref": "239e2106-d031-4ba5-82d8-92e76711d1fc",
       "rows": [
        [
         "0",
         "",
         "Brasil",
         "Alagoas",
         "Maceió",
         "",
         null
        ],
        [
         "1",
         "",
         "Brasil",
         "Alagoas",
         "Maceió",
         "",
         null
        ],
        [
         "2",
         "",
         "Brasil",
         "Alagoas",
         "Maceió",
         "",
         null
        ],
        [
         "3",
         "",
         "Brasil",
         "Alagoas",
         "Maceió",
         "",
         null
        ],
        [
         "4",
         "",
         "Brasil",
         "Alagoas",
         "Maceió",
         "",
         null
        ]
       ],
       "shape": {
        "columns": 6,
        "rows": 5
       }
      },
      "text/html": [
       "<div>\n",
       "<style scoped>\n",
       "    .dataframe tbody tr th:only-of-type {\n",
       "        vertical-align: middle;\n",
       "    }\n",
       "\n",
       "    .dataframe tbody tr th {\n",
       "        vertical-align: top;\n",
       "    }\n",
       "\n",
       "    .dataframe thead th {\n",
       "        text-align: right;\n",
       "    }\n",
       "</style>\n",
       "<table border=\"1\" class=\"dataframe\">\n",
       "  <thead>\n",
       "    <tr style=\"text-align: right;\">\n",
       "      <th></th>\n",
       "      <th>0</th>\n",
       "      <th>1</th>\n",
       "      <th>2</th>\n",
       "      <th>3</th>\n",
       "      <th>4</th>\n",
       "      <th>5</th>\n",
       "    </tr>\n",
       "  </thead>\n",
       "  <tbody>\n",
       "    <tr>\n",
       "      <th>0</th>\n",
       "      <td></td>\n",
       "      <td>Brasil</td>\n",
       "      <td>Alagoas</td>\n",
       "      <td>Maceió</td>\n",
       "      <td></td>\n",
       "      <td>None</td>\n",
       "    </tr>\n",
       "    <tr>\n",
       "      <th>1</th>\n",
       "      <td></td>\n",
       "      <td>Brasil</td>\n",
       "      <td>Alagoas</td>\n",
       "      <td>Maceió</td>\n",
       "      <td></td>\n",
       "      <td>None</td>\n",
       "    </tr>\n",
       "    <tr>\n",
       "      <th>2</th>\n",
       "      <td></td>\n",
       "      <td>Brasil</td>\n",
       "      <td>Alagoas</td>\n",
       "      <td>Maceió</td>\n",
       "      <td></td>\n",
       "      <td>None</td>\n",
       "    </tr>\n",
       "    <tr>\n",
       "      <th>3</th>\n",
       "      <td></td>\n",
       "      <td>Brasil</td>\n",
       "      <td>Alagoas</td>\n",
       "      <td>Maceió</td>\n",
       "      <td></td>\n",
       "      <td>None</td>\n",
       "    </tr>\n",
       "    <tr>\n",
       "      <th>4</th>\n",
       "      <td></td>\n",
       "      <td>Brasil</td>\n",
       "      <td>Alagoas</td>\n",
       "      <td>Maceió</td>\n",
       "      <td></td>\n",
       "      <td>None</td>\n",
       "    </tr>\n",
       "  </tbody>\n",
       "</table>\n",
       "</div>"
      ],
      "text/plain": [
       "  0       1        2       3 4     5\n",
       "0    Brasil  Alagoas  Maceió    None\n",
       "1    Brasil  Alagoas  Maceió    None\n",
       "2    Brasil  Alagoas  Maceió    None\n",
       "3    Brasil  Alagoas  Maceió    None\n",
       "4    Brasil  Alagoas  Maceió    None"
      ]
     },
     "execution_count": 10,
     "metadata": {},
     "output_type": "execute_result"
    }
   ],
   "source": [
    "splits.head()"
   ]
  },
  {
   "cell_type": "code",
   "execution_count": 11,
   "id": "7b801b7e",
   "metadata": {},
   "outputs": [
    {
     "name": "stdout",
     "output_type": "stream",
     "text": [
      "0      1\n",
      "1      1\n",
      "2     16\n",
      "3    112\n",
      "dtype: int64\n"
     ]
    }
   ],
   "source": [
    "splits.dropna(axis=1, inplace=True)\n",
    "print(splits.nunique())"
   ]
  },
  {
   "cell_type": "code",
   "execution_count": 12,
   "id": "faeb6b35",
   "metadata": {},
   "outputs": [],
   "source": [
    "df[\"place\"]= splits.drop(columns=[0,1,2])\n",
    "df.drop(columns=[\"place_with_parent_names\"], inplace=True)"
   ]
  },
  {
   "cell_type": "code",
   "execution_count": 13,
   "id": "1ab13640",
   "metadata": {},
   "outputs": [],
   "source": [
    "df[\"price_usd\"] = df[\"price_usd\"].str.replace(\",\",\"\").str.replace(\"$\",\"\").astype(float)"
   ]
  },
  {
   "cell_type": "code",
   "execution_count": 14,
   "id": "090189c7",
   "metadata": {},
   "outputs": [
    {
     "data": {
      "application/vnd.microsoft.datawrangler.viewer.v0+json": {
       "columns": [
        {
         "name": "index",
         "rawType": "int64",
         "type": "integer"
        },
        {
         "name": "property_type",
         "rawType": "object",
         "type": "string"
        },
        {
         "name": "region",
         "rawType": "object",
         "type": "string"
        },
        {
         "name": "area_m2",
         "rawType": "int64",
         "type": "integer"
        },
        {
         "name": "price_usd",
         "rawType": "float64",
         "type": "float"
        },
        {
         "name": "lat",
         "rawType": "float64",
         "type": "float"
        },
        {
         "name": "lon",
         "rawType": "float64",
         "type": "float"
        },
        {
         "name": "place",
         "rawType": "object",
         "type": "string"
        }
       ],
       "ref": "d2b5845a-09eb-4e4a-9b7c-d4ebe26000c8",
       "rows": [
        [
         "0",
         "apartment",
         "Northeast",
         "110",
         "187230.85",
         "-9.6443051",
         "-35.7088142",
         "Maceió"
        ],
        [
         "1",
         "apartment",
         "Northeast",
         "65",
         "81133.37",
         "-9.6430934",
         "-35.70484",
         "Maceió"
        ],
        [
         "2",
         "house",
         "Northeast",
         "211",
         "154465.45",
         "-9.6227033",
         "-35.7297953",
         "Maceió"
        ],
        [
         "3",
         "apartment",
         "Northeast",
         "99",
         "146013.2",
         "-9.622837",
         "-35.719556",
         "Maceió"
        ],
        [
         "4",
         "apartment",
         "Northeast",
         "55",
         "101416.71",
         "-9.654955",
         "-35.700227",
         "Maceió"
        ]
       ],
       "shape": {
        "columns": 7,
        "rows": 5
       }
      },
      "text/html": [
       "<div>\n",
       "<style scoped>\n",
       "    .dataframe tbody tr th:only-of-type {\n",
       "        vertical-align: middle;\n",
       "    }\n",
       "\n",
       "    .dataframe tbody tr th {\n",
       "        vertical-align: top;\n",
       "    }\n",
       "\n",
       "    .dataframe thead th {\n",
       "        text-align: right;\n",
       "    }\n",
       "</style>\n",
       "<table border=\"1\" class=\"dataframe\">\n",
       "  <thead>\n",
       "    <tr style=\"text-align: right;\">\n",
       "      <th></th>\n",
       "      <th>property_type</th>\n",
       "      <th>region</th>\n",
       "      <th>area_m2</th>\n",
       "      <th>price_usd</th>\n",
       "      <th>lat</th>\n",
       "      <th>lon</th>\n",
       "      <th>place</th>\n",
       "    </tr>\n",
       "  </thead>\n",
       "  <tbody>\n",
       "    <tr>\n",
       "      <th>0</th>\n",
       "      <td>apartment</td>\n",
       "      <td>Northeast</td>\n",
       "      <td>110</td>\n",
       "      <td>187230.85</td>\n",
       "      <td>-9.644305</td>\n",
       "      <td>-35.708814</td>\n",
       "      <td>Maceió</td>\n",
       "    </tr>\n",
       "    <tr>\n",
       "      <th>1</th>\n",
       "      <td>apartment</td>\n",
       "      <td>Northeast</td>\n",
       "      <td>65</td>\n",
       "      <td>81133.37</td>\n",
       "      <td>-9.643093</td>\n",
       "      <td>-35.704840</td>\n",
       "      <td>Maceió</td>\n",
       "    </tr>\n",
       "    <tr>\n",
       "      <th>2</th>\n",
       "      <td>house</td>\n",
       "      <td>Northeast</td>\n",
       "      <td>211</td>\n",
       "      <td>154465.45</td>\n",
       "      <td>-9.622703</td>\n",
       "      <td>-35.729795</td>\n",
       "      <td>Maceió</td>\n",
       "    </tr>\n",
       "    <tr>\n",
       "      <th>3</th>\n",
       "      <td>apartment</td>\n",
       "      <td>Northeast</td>\n",
       "      <td>99</td>\n",
       "      <td>146013.20</td>\n",
       "      <td>-9.622837</td>\n",
       "      <td>-35.719556</td>\n",
       "      <td>Maceió</td>\n",
       "    </tr>\n",
       "    <tr>\n",
       "      <th>4</th>\n",
       "      <td>apartment</td>\n",
       "      <td>Northeast</td>\n",
       "      <td>55</td>\n",
       "      <td>101416.71</td>\n",
       "      <td>-9.654955</td>\n",
       "      <td>-35.700227</td>\n",
       "      <td>Maceió</td>\n",
       "    </tr>\n",
       "  </tbody>\n",
       "</table>\n",
       "</div>"
      ],
      "text/plain": [
       "  property_type     region  area_m2  price_usd       lat        lon   place\n",
       "0     apartment  Northeast      110  187230.85 -9.644305 -35.708814  Maceió\n",
       "1     apartment  Northeast       65   81133.37 -9.643093 -35.704840  Maceió\n",
       "2         house  Northeast      211  154465.45 -9.622703 -35.729795  Maceió\n",
       "3     apartment  Northeast       99  146013.20 -9.622837 -35.719556  Maceió\n",
       "4     apartment  Northeast       55  101416.71 -9.654955 -35.700227  Maceió"
      ]
     },
     "execution_count": 14,
     "metadata": {},
     "output_type": "execute_result"
    }
   ],
   "source": [
    "df.head()"
   ]
  },
  {
   "cell_type": "code",
   "execution_count": 15,
   "id": "6802ebc1",
   "metadata": {},
   "outputs": [
    {
     "data": {
      "application/vnd.microsoft.datawrangler.viewer.v0+json": {
       "columns": [
        {
         "name": "index",
         "rawType": "object",
         "type": "string"
        },
        {
         "name": "0",
         "rawType": "int64",
         "type": "integer"
        }
       ],
       "ref": "6a261421-41a1-4720-9e41-a515a091ab06",
       "rows": [
        [
         "property_type",
         "2"
        ],
        [
         "region",
         "5"
        ],
        [
         "area_m2",
         "200"
        ],
        [
         "price_usd",
         "2402"
        ],
        [
         "lat",
         "4280"
        ],
        [
         "lon",
         "4147"
        ],
        [
         "place",
         "112"
        ]
       ],
       "shape": {
        "columns": 1,
        "rows": 7
       }
      },
      "text/plain": [
       "property_type       2\n",
       "region              5\n",
       "area_m2           200\n",
       "price_usd        2402\n",
       "lat              4280\n",
       "lon              4147\n",
       "place             112\n",
       "dtype: int64"
      ]
     },
     "execution_count": 15,
     "metadata": {},
     "output_type": "execute_result"
    }
   ],
   "source": [
    "df.nunique()"
   ]
  },
  {
   "cell_type": "code",
   "execution_count": 16,
   "id": "8ab76afa",
   "metadata": {},
   "outputs": [
    {
     "data": {
      "application/vnd.microsoft.datawrangler.viewer.v0+json": {
       "columns": [
        {
         "name": "index",
         "rawType": "int64",
         "type": "integer"
        },
        {
         "name": "property_type",
         "rawType": "object",
         "type": "string"
        },
        {
         "name": "region",
         "rawType": "object",
         "type": "string"
        },
        {
         "name": "area_m2",
         "rawType": "int64",
         "type": "integer"
        },
        {
         "name": "price_usd",
         "rawType": "float64",
         "type": "float"
        },
        {
         "name": "lat",
         "rawType": "float64",
         "type": "float"
        },
        {
         "name": "lon",
         "rawType": "float64",
         "type": "float"
        },
        {
         "name": "place",
         "rawType": "object",
         "type": "string"
        }
       ],
       "ref": "70b4beac-aab7-43f2-bef8-85abeae19f95",
       "rows": [
        [
         "0",
         "apartment",
         "Northeast",
         "110",
         "187230.85",
         "-9.6443051",
         "-35.7088142",
         "Maceió"
        ],
        [
         "1",
         "apartment",
         "Northeast",
         "65",
         "81133.37",
         "-9.6430934",
         "-35.70484",
         "Maceió"
        ],
        [
         "3",
         "apartment",
         "Northeast",
         "99",
         "146013.2",
         "-9.622837",
         "-35.719556",
         "Maceió"
        ],
        [
         "4",
         "apartment",
         "Northeast",
         "55",
         "101416.71",
         "-9.654955",
         "-35.700227",
         "Maceió"
        ],
        [
         "5",
         "apartment",
         "Northeast",
         "56",
         "75727.07",
         "-9.614414",
         "-35.735621",
         "Maceió"
        ]
       ],
       "shape": {
        "columns": 7,
        "rows": 5
       }
      },
      "text/html": [
       "<div>\n",
       "<style scoped>\n",
       "    .dataframe tbody tr th:only-of-type {\n",
       "        vertical-align: middle;\n",
       "    }\n",
       "\n",
       "    .dataframe tbody tr th {\n",
       "        vertical-align: top;\n",
       "    }\n",
       "\n",
       "    .dataframe thead th {\n",
       "        text-align: right;\n",
       "    }\n",
       "</style>\n",
       "<table border=\"1\" class=\"dataframe\">\n",
       "  <thead>\n",
       "    <tr style=\"text-align: right;\">\n",
       "      <th></th>\n",
       "      <th>property_type</th>\n",
       "      <th>region</th>\n",
       "      <th>area_m2</th>\n",
       "      <th>price_usd</th>\n",
       "      <th>lat</th>\n",
       "      <th>lon</th>\n",
       "      <th>place</th>\n",
       "    </tr>\n",
       "  </thead>\n",
       "  <tbody>\n",
       "    <tr>\n",
       "      <th>0</th>\n",
       "      <td>apartment</td>\n",
       "      <td>Northeast</td>\n",
       "      <td>110</td>\n",
       "      <td>187230.85</td>\n",
       "      <td>-9.644305</td>\n",
       "      <td>-35.708814</td>\n",
       "      <td>Maceió</td>\n",
       "    </tr>\n",
       "    <tr>\n",
       "      <th>1</th>\n",
       "      <td>apartment</td>\n",
       "      <td>Northeast</td>\n",
       "      <td>65</td>\n",
       "      <td>81133.37</td>\n",
       "      <td>-9.643093</td>\n",
       "      <td>-35.704840</td>\n",
       "      <td>Maceió</td>\n",
       "    </tr>\n",
       "    <tr>\n",
       "      <th>3</th>\n",
       "      <td>apartment</td>\n",
       "      <td>Northeast</td>\n",
       "      <td>99</td>\n",
       "      <td>146013.20</td>\n",
       "      <td>-9.622837</td>\n",
       "      <td>-35.719556</td>\n",
       "      <td>Maceió</td>\n",
       "    </tr>\n",
       "    <tr>\n",
       "      <th>4</th>\n",
       "      <td>apartment</td>\n",
       "      <td>Northeast</td>\n",
       "      <td>55</td>\n",
       "      <td>101416.71</td>\n",
       "      <td>-9.654955</td>\n",
       "      <td>-35.700227</td>\n",
       "      <td>Maceió</td>\n",
       "    </tr>\n",
       "    <tr>\n",
       "      <th>5</th>\n",
       "      <td>apartment</td>\n",
       "      <td>Northeast</td>\n",
       "      <td>56</td>\n",
       "      <td>75727.07</td>\n",
       "      <td>-9.614414</td>\n",
       "      <td>-35.735621</td>\n",
       "      <td>Maceió</td>\n",
       "    </tr>\n",
       "  </tbody>\n",
       "</table>\n",
       "</div>"
      ],
      "text/plain": [
       "  property_type     region  area_m2  price_usd       lat        lon   place\n",
       "0     apartment  Northeast      110  187230.85 -9.644305 -35.708814  Maceió\n",
       "1     apartment  Northeast       65   81133.37 -9.643093 -35.704840  Maceió\n",
       "3     apartment  Northeast       99  146013.20 -9.622837 -35.719556  Maceió\n",
       "4     apartment  Northeast       55  101416.71 -9.654955 -35.700227  Maceió\n",
       "5     apartment  Northeast       56   75727.07 -9.614414 -35.735621  Maceió"
      ]
     },
     "execution_count": 16,
     "metadata": {},
     "output_type": "execute_result"
    }
   ],
   "source": [
    "df = df[(df[\"property_type\"]==\"apartment\") & (df[\"region\"]== \"Northeast\")]\n",
    "df.head()"
   ]
  },
  {
   "cell_type": "code",
   "execution_count": 17,
   "id": "344eeeeb",
   "metadata": {},
   "outputs": [
    {
     "data": {
      "application/vnd.microsoft.datawrangler.viewer.v0+json": {
       "columns": [
        {
         "name": "index",
         "rawType": "object",
         "type": "string"
        },
        {
         "name": "0",
         "rawType": "int64",
         "type": "integer"
        }
       ],
       "ref": "e08f2363-a9f0-4df1-9071-354b37c8a9a8",
       "rows": [
        [
         "property_type",
         "1"
        ],
        [
         "region",
         "1"
        ],
        [
         "area_m2",
         "187"
        ],
        [
         "price_usd",
         "1096"
        ],
        [
         "lat",
         "973"
        ],
        [
         "lon",
         "938"
        ],
        [
         "place",
         "30"
        ]
       ],
       "shape": {
        "columns": 1,
        "rows": 7
       }
      },
      "text/plain": [
       "property_type       1\n",
       "region              1\n",
       "area_m2           187\n",
       "price_usd        1096\n",
       "lat               973\n",
       "lon               938\n",
       "place              30\n",
       "dtype: int64"
      ]
     },
     "execution_count": 17,
     "metadata": {},
     "output_type": "execute_result"
    }
   ],
   "source": [
    "df.nunique()"
   ]
  },
  {
   "cell_type": "code",
   "execution_count": 18,
   "id": "f7360c28",
   "metadata": {},
   "outputs": [],
   "source": [
    "df.drop(columns=[\"property_type\",\"region\"], inplace=True)"
   ]
  },
  {
   "cell_type": "code",
   "execution_count": 19,
   "id": "7fd4869a",
   "metadata": {},
   "outputs": [
    {
     "data": {
      "application/vnd.microsoft.datawrangler.viewer.v0+json": {
       "columns": [
        {
         "name": "index",
         "rawType": "int64",
         "type": "integer"
        },
        {
         "name": "area_m2",
         "rawType": "int64",
         "type": "integer"
        },
        {
         "name": "price_usd",
         "rawType": "float64",
         "type": "float"
        },
        {
         "name": "lat",
         "rawType": "float64",
         "type": "float"
        },
        {
         "name": "lon",
         "rawType": "float64",
         "type": "float"
        },
        {
         "name": "place",
         "rawType": "object",
         "type": "string"
        }
       ],
       "ref": "9d59e9b3-7fe7-4553-afb6-58284e7861d6",
       "rows": [
        [
         "0",
         "110",
         "187230.85",
         "-9.6443051",
         "-35.7088142",
         "Maceió"
        ],
        [
         "1",
         "65",
         "81133.37",
         "-9.6430934",
         "-35.70484",
         "Maceió"
        ],
        [
         "3",
         "99",
         "146013.2",
         "-9.622837",
         "-35.719556",
         "Maceió"
        ],
        [
         "4",
         "55",
         "101416.71",
         "-9.654955",
         "-35.700227",
         "Maceió"
        ],
        [
         "5",
         "56",
         "75727.07",
         "-9.614414",
         "-35.735621",
         "Maceió"
        ]
       ],
       "shape": {
        "columns": 5,
        "rows": 5
       }
      },
      "text/html": [
       "<div>\n",
       "<style scoped>\n",
       "    .dataframe tbody tr th:only-of-type {\n",
       "        vertical-align: middle;\n",
       "    }\n",
       "\n",
       "    .dataframe tbody tr th {\n",
       "        vertical-align: top;\n",
       "    }\n",
       "\n",
       "    .dataframe thead th {\n",
       "        text-align: right;\n",
       "    }\n",
       "</style>\n",
       "<table border=\"1\" class=\"dataframe\">\n",
       "  <thead>\n",
       "    <tr style=\"text-align: right;\">\n",
       "      <th></th>\n",
       "      <th>area_m2</th>\n",
       "      <th>price_usd</th>\n",
       "      <th>lat</th>\n",
       "      <th>lon</th>\n",
       "      <th>place</th>\n",
       "    </tr>\n",
       "  </thead>\n",
       "  <tbody>\n",
       "    <tr>\n",
       "      <th>0</th>\n",
       "      <td>110</td>\n",
       "      <td>187230.85</td>\n",
       "      <td>-9.644305</td>\n",
       "      <td>-35.708814</td>\n",
       "      <td>Maceió</td>\n",
       "    </tr>\n",
       "    <tr>\n",
       "      <th>1</th>\n",
       "      <td>65</td>\n",
       "      <td>81133.37</td>\n",
       "      <td>-9.643093</td>\n",
       "      <td>-35.704840</td>\n",
       "      <td>Maceió</td>\n",
       "    </tr>\n",
       "    <tr>\n",
       "      <th>3</th>\n",
       "      <td>99</td>\n",
       "      <td>146013.20</td>\n",
       "      <td>-9.622837</td>\n",
       "      <td>-35.719556</td>\n",
       "      <td>Maceió</td>\n",
       "    </tr>\n",
       "    <tr>\n",
       "      <th>4</th>\n",
       "      <td>55</td>\n",
       "      <td>101416.71</td>\n",
       "      <td>-9.654955</td>\n",
       "      <td>-35.700227</td>\n",
       "      <td>Maceió</td>\n",
       "    </tr>\n",
       "    <tr>\n",
       "      <th>5</th>\n",
       "      <td>56</td>\n",
       "      <td>75727.07</td>\n",
       "      <td>-9.614414</td>\n",
       "      <td>-35.735621</td>\n",
       "      <td>Maceió</td>\n",
       "    </tr>\n",
       "  </tbody>\n",
       "</table>\n",
       "</div>"
      ],
      "text/plain": [
       "   area_m2  price_usd       lat        lon   place\n",
       "0      110  187230.85 -9.644305 -35.708814  Maceió\n",
       "1       65   81133.37 -9.643093 -35.704840  Maceió\n",
       "3       99  146013.20 -9.622837 -35.719556  Maceió\n",
       "4       55  101416.71 -9.654955 -35.700227  Maceió\n",
       "5       56   75727.07 -9.614414 -35.735621  Maceió"
      ]
     },
     "execution_count": 19,
     "metadata": {},
     "output_type": "execute_result"
    }
   ],
   "source": [
    "df.head()"
   ]
  },
  {
   "cell_type": "code",
   "execution_count": 20,
   "id": "570340ba",
   "metadata": {},
   "outputs": [],
   "source": [
    "df.to_csv(\"brasil_real_estate_fixed.csv\", index=None)"
   ]
  },
  {
   "cell_type": "markdown",
   "id": "ad593f88",
   "metadata": {},
   "source": [
    "#### Exploratory Data Analysis"
   ]
  },
  {
   "cell_type": "code",
   "execution_count": 21,
   "id": "8386fb69",
   "metadata": {},
   "outputs": [
    {
     "data": {
      "application/vnd.microsoft.datawrangler.viewer.v0+json": {
       "columns": [
        {
         "name": "index",
         "rawType": "object",
         "type": "string"
        },
        {
         "name": "area_m2",
         "rawType": "float64",
         "type": "float"
        },
        {
         "name": "price_usd",
         "rawType": "float64",
         "type": "float"
        },
        {
         "name": "lat",
         "rawType": "float64",
         "type": "float"
        },
        {
         "name": "lon",
         "rawType": "float64",
         "type": "float"
        }
       ],
       "ref": "27180dad-b260-47be-a22f-b2cb0b6aafe4",
       "rows": [
        [
         "area_m2",
         "1.0",
         "0.7415791686063472",
         "-0.09162259698384558",
         "-0.007157439887884224"
        ],
        [
         "price_usd",
         "0.7415791686063472",
         "1.0",
         "0.06889164038852638",
         "0.011038795889638416"
        ],
        [
         "lat",
         "-0.09162259698384558",
         "0.06889164038852638",
         "1.0",
         "-0.007918044927912425"
        ],
        [
         "lon",
         "-0.007157439887884224",
         "0.011038795889638416",
         "-0.007918044927912425",
         "1.0"
        ]
       ],
       "shape": {
        "columns": 4,
        "rows": 4
       }
      },
      "text/html": [
       "<div>\n",
       "<style scoped>\n",
       "    .dataframe tbody tr th:only-of-type {\n",
       "        vertical-align: middle;\n",
       "    }\n",
       "\n",
       "    .dataframe tbody tr th {\n",
       "        vertical-align: top;\n",
       "    }\n",
       "\n",
       "    .dataframe thead th {\n",
       "        text-align: right;\n",
       "    }\n",
       "</style>\n",
       "<table border=\"1\" class=\"dataframe\">\n",
       "  <thead>\n",
       "    <tr style=\"text-align: right;\">\n",
       "      <th></th>\n",
       "      <th>area_m2</th>\n",
       "      <th>price_usd</th>\n",
       "      <th>lat</th>\n",
       "      <th>lon</th>\n",
       "    </tr>\n",
       "  </thead>\n",
       "  <tbody>\n",
       "    <tr>\n",
       "      <th>area_m2</th>\n",
       "      <td>1.000000</td>\n",
       "      <td>0.741579</td>\n",
       "      <td>-0.091623</td>\n",
       "      <td>-0.007157</td>\n",
       "    </tr>\n",
       "    <tr>\n",
       "      <th>price_usd</th>\n",
       "      <td>0.741579</td>\n",
       "      <td>1.000000</td>\n",
       "      <td>0.068892</td>\n",
       "      <td>0.011039</td>\n",
       "    </tr>\n",
       "    <tr>\n",
       "      <th>lat</th>\n",
       "      <td>-0.091623</td>\n",
       "      <td>0.068892</td>\n",
       "      <td>1.000000</td>\n",
       "      <td>-0.007918</td>\n",
       "    </tr>\n",
       "    <tr>\n",
       "      <th>lon</th>\n",
       "      <td>-0.007157</td>\n",
       "      <td>0.011039</td>\n",
       "      <td>-0.007918</td>\n",
       "      <td>1.000000</td>\n",
       "    </tr>\n",
       "  </tbody>\n",
       "</table>\n",
       "</div>"
      ],
      "text/plain": [
       "            area_m2  price_usd       lat       lon\n",
       "area_m2    1.000000   0.741579 -0.091623 -0.007157\n",
       "price_usd  0.741579   1.000000  0.068892  0.011039\n",
       "lat       -0.091623   0.068892  1.000000 -0.007918\n",
       "lon       -0.007157   0.011039 -0.007918  1.000000"
      ]
     },
     "execution_count": 21,
     "metadata": {},
     "output_type": "execute_result"
    }
   ],
   "source": [
    "correlation_matrix=df.select_dtypes(\"number\").corr()\n",
    "correlation_matrix"
   ]
  },
  {
   "cell_type": "code",
   "execution_count": 22,
   "id": "a4bbbf69",
   "metadata": {},
   "outputs": [
    {
     "data": {
      "text/plain": [
       "<Axes: >"
      ]
     },
     "execution_count": 22,
     "metadata": {},
     "output_type": "execute_result"
    },
    {
     "data": {
      "image/png": "[encoded data removed]",
      "text/plain": [
       "<Figure size 640x480 with 2 Axes>"
      ]
     },
     "metadata": {},
     "output_type": "display_data"
    }
   ],
   "source": [
    "sns.heatmap(correlation_matrix, cmap=\"coolwarm\")"
   ]
  }
 ],
 "metadata": {
  "kernelspec": {
   "display_name": "VENV_machine_learning_quant",
   "language": "python",
   "name": "python3"
  },
  "language_info": {
   "codemirror_mode": {
    "name": "ipython",
    "version": 3
   },
   "file_extension": ".py",
   "mimetype": "text/x-python",
   "name": "python",
   "nbconvert_exporter": "python",
   "pygments_lexer": "ipython3",
   "version": "3.12.10"
  }
 },
 "nbformat": 4,
 "nbformat_minor": 5
}

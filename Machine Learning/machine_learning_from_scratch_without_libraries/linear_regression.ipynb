{
 "cells": [
  {
   "cell_type": "code",
   "execution_count": 122,
   "id": "c773f702",
   "metadata": {},
   "outputs": [],
   "source": [
    "import numpy as np\n",
    "import pandas as pd\n",
    "import matplotlib.pyplot as plt"
   ]
  },
  {
   "cell_type": "code",
   "execution_count": 123,
   "id": "ac986d0d",
   "metadata": {},
   "outputs": [],
   "source": [
    "df = pd.read_excel(\"./brasil_real_estate.xlsx\")"
   ]
  },
  {
   "cell_type": "markdown",
   "id": "19d9d869",
   "metadata": {},
   "source": [
    "#### Data Wrangling"
   ]
  },
  {
   "cell_type": "code",
   "execution_count": 124,
   "id": "210b39e0",
   "metadata": {},
   "outputs": [
    {
     "data": {
      "application/vnd.microsoft.datawrangler.viewer.v0+json": {
       "columns": [
        {
         "name": "index",
         "rawType": "int64",
         "type": "integer"
        },
        {
         "name": "property_type",
         "rawType": "object",
         "type": "string"
        },
        {
         "name": "place_with_parent_names",
         "rawType": "object",
         "type": "string"
        },
        {
         "name": "region",
         "rawType": "object",
         "type": "string"
        },
        {
         "name": "lat-lon",
         "rawType": "object",
         "type": "string"
        },
        {
         "name": "area_m2",
         "rawType": "int64",
         "type": "integer"
        },
        {
         "name": "price_usd",
         "rawType": "object",
         "type": "string"
        }
       ],
       "ref": "22b3f18f-0909-48e5-95fe-756ca5d442b9",
       "rows": [
        [
         "0",
         "apartment",
         "|Brasil|Alagoas|Maceió|",
         "Northeast",
         "-9.6443051,-35.7088142",
         "110",
         "$187,230.85"
        ],
        [
         "1",
         "apartment",
         "|Brasil|Alagoas|Maceió|",
         "Northeast",
         "-9.6430934,-35.70484",
         "65",
         "$81,133.37"
        ],
        [
         "2",
         "house",
         "|Brasil|Alagoas|Maceió|",
         "Northeast",
         "-9.6227033,-35.7297953",
         "211",
         "$154,465.45"
        ],
        [
         "3",
         "apartment",
         "|Brasil|Alagoas|Maceió|",
         "Northeast",
         "-9.622837,-35.719556",
         "99",
         "$146,013.20"
        ],
        [
         "4",
         "apartment",
         "|Brasil|Alagoas|Maceió|",
         "Northeast",
         "-9.654955,-35.700227",
         "55",
         "$101,416.71"
        ]
       ],
       "shape": {
        "columns": 6,
        "rows": 5
       }
      },
      "text/html": [
       "<div>\n",
       "<style scoped>\n",
       "    .dataframe tbody tr th:only-of-type {\n",
       "        vertical-align: middle;\n",
       "    }\n",
       "\n",
       "    .dataframe tbody tr th {\n",
       "        vertical-align: top;\n",
       "    }\n",
       "\n",
       "    .dataframe thead th {\n",
       "        text-align: right;\n",
       "    }\n",
       "</style>\n",
       "<table border=\"1\" class=\"dataframe\">\n",
       "  <thead>\n",
       "    <tr style=\"text-align: right;\">\n",
       "      <th></th>\n",
       "      <th>property_type</th>\n",
       "      <th>place_with_parent_names</th>\n",
       "      <th>region</th>\n",
       "      <th>lat-lon</th>\n",
       "      <th>area_m2</th>\n",
       "      <th>price_usd</th>\n",
       "    </tr>\n",
       "  </thead>\n",
       "  <tbody>\n",
       "    <tr>\n",
       "      <th>0</th>\n",
       "      <td>apartment</td>\n",
       "      <td>|Brasil|Alagoas|Maceió|</td>\n",
       "      <td>Northeast</td>\n",
       "      <td>-9.6443051,-35.7088142</td>\n",
       "      <td>110</td>\n",
       "      <td>$187,230.85</td>\n",
       "    </tr>\n",
       "    <tr>\n",
       "      <th>1</th>\n",
       "      <td>apartment</td>\n",
       "      <td>|Brasil|Alagoas|Maceió|</td>\n",
       "      <td>Northeast</td>\n",
       "      <td>-9.6430934,-35.70484</td>\n",
       "      <td>65</td>\n",
       "      <td>$81,133.37</td>\n",
       "    </tr>\n",
       "    <tr>\n",
       "      <th>2</th>\n",
       "      <td>house</td>\n",
       "      <td>|Brasil|Alagoas|Maceió|</td>\n",
       "      <td>Northeast</td>\n",
       "      <td>-9.6227033,-35.7297953</td>\n",
       "      <td>211</td>\n",
       "      <td>$154,465.45</td>\n",
       "    </tr>\n",
       "    <tr>\n",
       "      <th>3</th>\n",
       "      <td>apartment</td>\n",
       "      <td>|Brasil|Alagoas|Maceió|</td>\n",
       "      <td>Northeast</td>\n",
       "      <td>-9.622837,-35.719556</td>\n",
       "      <td>99</td>\n",
       "      <td>$146,013.20</td>\n",
       "    </tr>\n",
       "    <tr>\n",
       "      <th>4</th>\n",
       "      <td>apartment</td>\n",
       "      <td>|Brasil|Alagoas|Maceió|</td>\n",
       "      <td>Northeast</td>\n",
       "      <td>-9.654955,-35.700227</td>\n",
       "      <td>55</td>\n",
       "      <td>$101,416.71</td>\n",
       "    </tr>\n",
       "  </tbody>\n",
       "</table>\n",
       "</div>"
      ],
      "text/plain": [
       "  property_type  place_with_parent_names     region                 lat-lon  \\\n",
       "0     apartment  |Brasil|Alagoas|Maceió|  Northeast  -9.6443051,-35.7088142   \n",
       "1     apartment  |Brasil|Alagoas|Maceió|  Northeast    -9.6430934,-35.70484   \n",
       "2         house  |Brasil|Alagoas|Maceió|  Northeast  -9.6227033,-35.7297953   \n",
       "3     apartment  |Brasil|Alagoas|Maceió|  Northeast    -9.622837,-35.719556   \n",
       "4     apartment  |Brasil|Alagoas|Maceió|  Northeast    -9.654955,-35.700227   \n",
       "\n",
       "   area_m2    price_usd  \n",
       "0      110  $187,230.85  \n",
       "1       65   $81,133.37  \n",
       "2      211  $154,465.45  \n",
       "3       99  $146,013.20  \n",
       "4       55  $101,416.71  "
      ]
     },
     "execution_count": 124,
     "metadata": {},
     "output_type": "execute_result"
    }
   ],
   "source": [
    "df.head()"
   ]
  },
  {
   "cell_type": "code",
   "execution_count": 125,
   "id": "9be953d7",
   "metadata": {},
   "outputs": [
    {
     "data": {
      "text/plain": [
       "12834"
      ]
     },
     "execution_count": 125,
     "metadata": {},
     "output_type": "execute_result"
    }
   ],
   "source": [
    "len(df)"
   ]
  },
  {
   "cell_type": "code",
   "execution_count": 126,
   "id": "6576ed49",
   "metadata": {},
   "outputs": [
    {
     "data": {
      "application/vnd.microsoft.datawrangler.viewer.v0+json": {
       "columns": [
        {
         "name": "index",
         "rawType": "object",
         "type": "string"
        },
        {
         "name": "0",
         "rawType": "int64",
         "type": "integer"
        }
       ],
       "ref": "7ebb3e0e-8d55-483b-b245-70494df90e58",
       "rows": [
        [
         "property_type",
         "0"
        ],
        [
         "place_with_parent_names",
         "0"
        ],
        [
         "region",
         "0"
        ],
        [
         "lat-lon",
         "1283"
        ],
        [
         "area_m2",
         "0"
        ],
        [
         "price_usd",
         "0"
        ]
       ],
       "shape": {
        "columns": 1,
        "rows": 6
       }
      },
      "text/plain": [
       "property_type                 0\n",
       "place_with_parent_names       0\n",
       "region                        0\n",
       "lat-lon                    1283\n",
       "area_m2                       0\n",
       "price_usd                     0\n",
       "dtype: int64"
      ]
     },
     "execution_count": 126,
     "metadata": {},
     "output_type": "execute_result"
    }
   ],
   "source": [
    "df.isna().sum()"
   ]
  },
  {
   "cell_type": "code",
   "execution_count": 127,
   "id": "1c49430d",
   "metadata": {},
   "outputs": [
    {
     "data": {
      "application/vnd.microsoft.datawrangler.viewer.v0+json": {
       "columns": [
        {
         "name": "index",
         "rawType": "object",
         "type": "string"
        },
        {
         "name": "0",
         "rawType": "int64",
         "type": "integer"
        }
       ],
       "ref": "8f129bb8-bc8b-4e7d-a8e4-d61bab79cd08",
       "rows": [
        [
         "property_type",
         "0"
        ],
        [
         "place_with_parent_names",
         "0"
        ],
        [
         "region",
         "0"
        ],
        [
         "lat-lon",
         "0"
        ],
        [
         "area_m2",
         "0"
        ],
        [
         "price_usd",
         "0"
        ]
       ],
       "shape": {
        "columns": 1,
        "rows": 6
       }
      },
      "text/plain": [
       "property_type              0\n",
       "place_with_parent_names    0\n",
       "region                     0\n",
       "lat-lon                    0\n",
       "area_m2                    0\n",
       "price_usd                  0\n",
       "dtype: int64"
      ]
     },
     "execution_count": 127,
     "metadata": {},
     "output_type": "execute_result"
    }
   ],
   "source": [
    "df.dropna(inplace=True)\n",
    "df.isna().sum()"
   ]
  },
  {
   "cell_type": "code",
   "execution_count": 128,
   "id": "0b345073",
   "metadata": {},
   "outputs": [
    {
     "name": "stdout",
     "output_type": "stream",
     "text": [
      "<class 'pandas.core.frame.DataFrame'>\n",
      "Index: 11551 entries, 0 to 12833\n",
      "Data columns (total 6 columns):\n",
      " #   Column                   Non-Null Count  Dtype \n",
      "---  ------                   --------------  ----- \n",
      " 0   property_type            11551 non-null  object\n",
      " 1   place_with_parent_names  11551 non-null  object\n",
      " 2   region                   11551 non-null  object\n",
      " 3   lat-lon                  11551 non-null  object\n",
      " 4   area_m2                  11551 non-null  int64 \n",
      " 5   price_usd                11551 non-null  object\n",
      "dtypes: int64(1), object(5)\n",
      "memory usage: 631.7+ KB\n"
     ]
    }
   ],
   "source": [
    "df.info()"
   ]
  },
  {
   "cell_type": "code",
   "execution_count": 129,
   "id": "f14094f8",
   "metadata": {},
   "outputs": [],
   "source": [
    "df[[\"lat\",\"lon\"]]=df[\"lat-lon\"].str.split(\",\", expand=True).astype(float)\n",
    "df.drop(columns=[\"lat-lon\"], inplace=True)"
   ]
  },
  {
   "cell_type": "code",
   "execution_count": 130,
   "id": "6b73964c",
   "metadata": {},
   "outputs": [],
   "source": [
    "splits = df[\"place_with_parent_names\"].str.split(\"|\", expand=True)"
   ]
  },
  {
   "cell_type": "code",
   "execution_count": 131,
   "id": "588f46f4",
   "metadata": {},
   "outputs": [
    {
     "data": {
      "application/vnd.microsoft.datawrangler.viewer.v0+json": {
       "columns": [
        {
         "name": "index",
         "rawType": "int64",
         "type": "integer"
        },
        {
         "name": "0",
         "rawType": "object",
         "type": "string"
        },
        {
         "name": "1",
         "rawType": "object",
         "type": "string"
        },
        {
         "name": "2",
         "rawType": "object",
         "type": "string"
        },
        {
         "name": "3",
         "rawType": "object",
         "type": "string"
        },
        {
         "name": "4",
         "rawType": "object",
         "type": "string"
        },
        {
         "name": "5",
         "rawType": "object",
         "type": "unknown"
        }
       ],
       "ref": "6c085231-e000-4e5f-92eb-6867a2a5cbc3",
       "rows": [
        [
         "0",
         "",
         "Brasil",
         "Alagoas",
         "Maceió",
         "",
         null
        ],
        [
         "1",
         "",
         "Brasil",
         "Alagoas",
         "Maceió",
         "",
         null
        ],
        [
         "2",
         "",
         "Brasil",
         "Alagoas",
         "Maceió",
         "",
         null
        ],
        [
         "3",
         "",
         "Brasil",
         "Alagoas",
         "Maceió",
         "",
         null
        ],
        [
         "4",
         "",
         "Brasil",
         "Alagoas",
         "Maceió",
         "",
         null
        ]
       ],
       "shape": {
        "columns": 6,
        "rows": 5
       }
      },
      "text/html": [
       "<div>\n",
       "<style scoped>\n",
       "    .dataframe tbody tr th:only-of-type {\n",
       "        vertical-align: middle;\n",
       "    }\n",
       "\n",
       "    .dataframe tbody tr th {\n",
       "        vertical-align: top;\n",
       "    }\n",
       "\n",
       "    .dataframe thead th {\n",
       "        text-align: right;\n",
       "    }\n",
       "</style>\n",
       "<table border=\"1\" class=\"dataframe\">\n",
       "  <thead>\n",
       "    <tr style=\"text-align: right;\">\n",
       "      <th></th>\n",
       "      <th>0</th>\n",
       "      <th>1</th>\n",
       "      <th>2</th>\n",
       "      <th>3</th>\n",
       "      <th>4</th>\n",
       "      <th>5</th>\n",
       "    </tr>\n",
       "  </thead>\n",
       "  <tbody>\n",
       "    <tr>\n",
       "      <th>0</th>\n",
       "      <td></td>\n",
       "      <td>Brasil</td>\n",
       "      <td>Alagoas</td>\n",
       "      <td>Maceió</td>\n",
       "      <td></td>\n",
       "      <td>None</td>\n",
       "    </tr>\n",
       "    <tr>\n",
       "      <th>1</th>\n",
       "      <td></td>\n",
       "      <td>Brasil</td>\n",
       "      <td>Alagoas</td>\n",
       "      <td>Maceió</td>\n",
       "      <td></td>\n",
       "      <td>None</td>\n",
       "    </tr>\n",
       "    <tr>\n",
       "      <th>2</th>\n",
       "      <td></td>\n",
       "      <td>Brasil</td>\n",
       "      <td>Alagoas</td>\n",
       "      <td>Maceió</td>\n",
       "      <td></td>\n",
       "      <td>None</td>\n",
       "    </tr>\n",
       "    <tr>\n",
       "      <th>3</th>\n",
       "      <td></td>\n",
       "      <td>Brasil</td>\n",
       "      <td>Alagoas</td>\n",
       "      <td>Maceió</td>\n",
       "      <td></td>\n",
       "      <td>None</td>\n",
       "    </tr>\n",
       "    <tr>\n",
       "      <th>4</th>\n",
       "      <td></td>\n",
       "      <td>Brasil</td>\n",
       "      <td>Alagoas</td>\n",
       "      <td>Maceió</td>\n",
       "      <td></td>\n",
       "      <td>None</td>\n",
       "    </tr>\n",
       "  </tbody>\n",
       "</table>\n",
       "</div>"
      ],
      "text/plain": [
       "  0       1        2       3 4     5\n",
       "0    Brasil  Alagoas  Maceió    None\n",
       "1    Brasil  Alagoas  Maceió    None\n",
       "2    Brasil  Alagoas  Maceió    None\n",
       "3    Brasil  Alagoas  Maceió    None\n",
       "4    Brasil  Alagoas  Maceió    None"
      ]
     },
     "execution_count": 131,
     "metadata": {},
     "output_type": "execute_result"
    }
   ],
   "source": [
    "splits.head()"
   ]
  },
  {
   "cell_type": "code",
   "execution_count": 132,
   "id": "7b801b7e",
   "metadata": {},
   "outputs": [
    {
     "name": "stdout",
     "output_type": "stream",
     "text": [
      "0      1\n",
      "1      1\n",
      "2     16\n",
      "3    112\n",
      "dtype: int64\n"
     ]
    }
   ],
   "source": [
    "splits.dropna(axis=1, inplace=True)\n",
    "print(splits.nunique())"
   ]
  },
  {
   "cell_type": "code",
   "execution_count": 133,
   "id": "faeb6b35",
   "metadata": {},
   "outputs": [],
   "source": [
    "df[\"place\"]= splits.drop(columns=[0,1,2])\n",
    "df.drop(columns=[\"place_with_parent_names\"], inplace=True)"
   ]
  },
  {
   "cell_type": "code",
   "execution_count": 134,
   "id": "1ab13640",
   "metadata": {},
   "outputs": [],
   "source": [
    "df[\"price_usd\"] = df[\"price_usd\"].str.replace(\",\",\"\").str.replace(\"$\",\"\").astype(float)"
   ]
  },
  {
   "cell_type": "code",
   "execution_count": 135,
   "id": "090189c7",
   "metadata": {},
   "outputs": [
    {
     "data": {
      "application/vnd.microsoft.datawrangler.viewer.v0+json": {
       "columns": [
        {
         "name": "index",
         "rawType": "int64",
         "type": "integer"
        },
        {
         "name": "property_type",
         "rawType": "object",
         "type": "string"
        },
        {
         "name": "region",
         "rawType": "object",
         "type": "string"
        },
        {
         "name": "area_m2",
         "rawType": "int64",
         "type": "integer"
        },
        {
         "name": "price_usd",
         "rawType": "float64",
         "type": "float"
        },
        {
         "name": "lat",
         "rawType": "float64",
         "type": "float"
        },
        {
         "name": "lon",
         "rawType": "float64",
         "type": "float"
        },
        {
         "name": "place",
         "rawType": "object",
         "type": "string"
        }
       ],
       "ref": "5efd5ec2-7cf8-405f-b4da-389b6ce6eeb9",
       "rows": [
        [
         "0",
         "apartment",
         "Northeast",
         "110",
         "187230.85",
         "-9.6443051",
         "-35.7088142",
         "Maceió"
        ],
        [
         "1",
         "apartment",
         "Northeast",
         "65",
         "81133.37",
         "-9.6430934",
         "-35.70484",
         "Maceió"
        ],
        [
         "2",
         "house",
         "Northeast",
         "211",
         "154465.45",
         "-9.6227033",
         "-35.7297953",
         "Maceió"
        ],
        [
         "3",
         "apartment",
         "Northeast",
         "99",
         "146013.2",
         "-9.622837",
         "-35.719556",
         "Maceió"
        ],
        [
         "4",
         "apartment",
         "Northeast",
         "55",
         "101416.71",
         "-9.654955",
         "-35.700227",
         "Maceió"
        ]
       ],
       "shape": {
        "columns": 7,
        "rows": 5
       }
      },
      "text/html": [
       "<div>\n",
       "<style scoped>\n",
       "    .dataframe tbody tr th:only-of-type {\n",
       "        vertical-align: middle;\n",
       "    }\n",
       "\n",
       "    .dataframe tbody tr th {\n",
       "        vertical-align: top;\n",
       "    }\n",
       "\n",
       "    .dataframe thead th {\n",
       "        text-align: right;\n",
       "    }\n",
       "</style>\n",
       "<table border=\"1\" class=\"dataframe\">\n",
       "  <thead>\n",
       "    <tr style=\"text-align: right;\">\n",
       "      <th></th>\n",
       "      <th>property_type</th>\n",
       "      <th>region</th>\n",
       "      <th>area_m2</th>\n",
       "      <th>price_usd</th>\n",
       "      <th>lat</th>\n",
       "      <th>lon</th>\n",
       "      <th>place</th>\n",
       "    </tr>\n",
       "  </thead>\n",
       "  <tbody>\n",
       "    <tr>\n",
       "      <th>0</th>\n",
       "      <td>apartment</td>\n",
       "      <td>Northeast</td>\n",
       "      <td>110</td>\n",
       "      <td>187230.85</td>\n",
       "      <td>-9.644305</td>\n",
       "      <td>-35.708814</td>\n",
       "      <td>Maceió</td>\n",
       "    </tr>\n",
       "    <tr>\n",
       "      <th>1</th>\n",
       "      <td>apartment</td>\n",
       "      <td>Northeast</td>\n",
       "      <td>65</td>\n",
       "      <td>81133.37</td>\n",
       "      <td>-9.643093</td>\n",
       "      <td>-35.704840</td>\n",
       "      <td>Maceió</td>\n",
       "    </tr>\n",
       "    <tr>\n",
       "      <th>2</th>\n",
       "      <td>house</td>\n",
       "      <td>Northeast</td>\n",
       "      <td>211</td>\n",
       "      <td>154465.45</td>\n",
       "      <td>-9.622703</td>\n",
       "      <td>-35.729795</td>\n",
       "      <td>Maceió</td>\n",
       "    </tr>\n",
       "    <tr>\n",
       "      <th>3</th>\n",
       "      <td>apartment</td>\n",
       "      <td>Northeast</td>\n",
       "      <td>99</td>\n",
       "      <td>146013.20</td>\n",
       "      <td>-9.622837</td>\n",
       "      <td>-35.719556</td>\n",
       "      <td>Maceió</td>\n",
       "    </tr>\n",
       "    <tr>\n",
       "      <th>4</th>\n",
       "      <td>apartment</td>\n",
       "      <td>Northeast</td>\n",
       "      <td>55</td>\n",
       "      <td>101416.71</td>\n",
       "      <td>-9.654955</td>\n",
       "      <td>-35.700227</td>\n",
       "      <td>Maceió</td>\n",
       "    </tr>\n",
       "  </tbody>\n",
       "</table>\n",
       "</div>"
      ],
      "text/plain": [
       "  property_type     region  area_m2  price_usd       lat        lon   place\n",
       "0     apartment  Northeast      110  187230.85 -9.644305 -35.708814  Maceió\n",
       "1     apartment  Northeast       65   81133.37 -9.643093 -35.704840  Maceió\n",
       "2         house  Northeast      211  154465.45 -9.622703 -35.729795  Maceió\n",
       "3     apartment  Northeast       99  146013.20 -9.622837 -35.719556  Maceió\n",
       "4     apartment  Northeast       55  101416.71 -9.654955 -35.700227  Maceió"
      ]
     },
     "execution_count": 135,
     "metadata": {},
     "output_type": "execute_result"
    }
   ],
   "source": [
    "df.head()"
   ]
  },
  {
   "cell_type": "code",
   "execution_count": 136,
   "id": "6802ebc1",
   "metadata": {},
   "outputs": [
    {
     "data": {
      "application/vnd.microsoft.datawrangler.viewer.v0+json": {
       "columns": [
        {
         "name": "index",
         "rawType": "object",
         "type": "string"
        },
        {
         "name": "0",
         "rawType": "int64",
         "type": "integer"
        }
       ],
       "ref": "c6a69236-8c24-4e0e-8839-9670f3cf872c",
       "rows": [
        [
         "property_type",
         "2"
        ],
        [
         "region",
         "5"
        ],
        [
         "area_m2",
         "200"
        ],
        [
         "price_usd",
         "2402"
        ],
        [
         "lat",
         "4280"
        ],
        [
         "lon",
         "4147"
        ],
        [
         "place",
         "112"
        ]
       ],
       "shape": {
        "columns": 1,
        "rows": 7
       }
      },
      "text/plain": [
       "property_type       2\n",
       "region              5\n",
       "area_m2           200\n",
       "price_usd        2402\n",
       "lat              4280\n",
       "lon              4147\n",
       "place             112\n",
       "dtype: int64"
      ]
     },
     "execution_count": 136,
     "metadata": {},
     "output_type": "execute_result"
    }
   ],
   "source": [
    "df.nunique()"
   ]
  },
  {
   "cell_type": "code",
   "execution_count": 137,
   "id": "8ab76afa",
   "metadata": {},
   "outputs": [
    {
     "data": {
      "application/vnd.microsoft.datawrangler.viewer.v0+json": {
       "columns": [
        {
         "name": "index",
         "rawType": "int64",
         "type": "integer"
        },
        {
         "name": "property_type",
         "rawType": "object",
         "type": "string"
        },
        {
         "name": "region",
         "rawType": "object",
         "type": "string"
        },
        {
         "name": "area_m2",
         "rawType": "int64",
         "type": "integer"
        },
        {
         "name": "price_usd",
         "rawType": "float64",
         "type": "float"
        },
        {
         "name": "lat",
         "rawType": "float64",
         "type": "float"
        },
        {
         "name": "lon",
         "rawType": "float64",
         "type": "float"
        },
        {
         "name": "place",
         "rawType": "object",
         "type": "string"
        }
       ],
       "ref": "612e641b-7821-4da1-b851-aa40e86f7c81",
       "rows": [
        [
         "0",
         "apartment",
         "Northeast",
         "110",
         "187230.85",
         "-9.6443051",
         "-35.7088142",
         "Maceió"
        ],
        [
         "1",
         "apartment",
         "Northeast",
         "65",
         "81133.37",
         "-9.6430934",
         "-35.70484",
         "Maceió"
        ],
        [
         "3",
         "apartment",
         "Northeast",
         "99",
         "146013.2",
         "-9.622837",
         "-35.719556",
         "Maceió"
        ],
        [
         "4",
         "apartment",
         "Northeast",
         "55",
         "101416.71",
         "-9.654955",
         "-35.700227",
         "Maceió"
        ],
        [
         "5",
         "apartment",
         "Northeast",
         "56",
         "75727.07",
         "-9.614414",
         "-35.735621",
         "Maceió"
        ]
       ],
       "shape": {
        "columns": 7,
        "rows": 5
       }
      },
      "text/html": [
       "<div>\n",
       "<style scoped>\n",
       "    .dataframe tbody tr th:only-of-type {\n",
       "        vertical-align: middle;\n",
       "    }\n",
       "\n",
       "    .dataframe tbody tr th {\n",
       "        vertical-align: top;\n",
       "    }\n",
       "\n",
       "    .dataframe thead th {\n",
       "        text-align: right;\n",
       "    }\n",
       "</style>\n",
       "<table border=\"1\" class=\"dataframe\">\n",
       "  <thead>\n",
       "    <tr style=\"text-align: right;\">\n",
       "      <th></th>\n",
       "      <th>property_type</th>\n",
       "      <th>region</th>\n",
       "      <th>area_m2</th>\n",
       "      <th>price_usd</th>\n",
       "      <th>lat</th>\n",
       "      <th>lon</th>\n",
       "      <th>place</th>\n",
       "    </tr>\n",
       "  </thead>\n",
       "  <tbody>\n",
       "    <tr>\n",
       "      <th>0</th>\n",
       "      <td>apartment</td>\n",
       "      <td>Northeast</td>\n",
       "      <td>110</td>\n",
       "      <td>187230.85</td>\n",
       "      <td>-9.644305</td>\n",
       "      <td>-35.708814</td>\n",
       "      <td>Maceió</td>\n",
       "    </tr>\n",
       "    <tr>\n",
       "      <th>1</th>\n",
       "      <td>apartment</td>\n",
       "      <td>Northeast</td>\n",
       "      <td>65</td>\n",
       "      <td>81133.37</td>\n",
       "      <td>-9.643093</td>\n",
       "      <td>-35.704840</td>\n",
       "      <td>Maceió</td>\n",
       "    </tr>\n",
       "    <tr>\n",
       "      <th>3</th>\n",
       "      <td>apartment</td>\n",
       "      <td>Northeast</td>\n",
       "      <td>99</td>\n",
       "      <td>146013.20</td>\n",
       "      <td>-9.622837</td>\n",
       "      <td>-35.719556</td>\n",
       "      <td>Maceió</td>\n",
       "    </tr>\n",
       "    <tr>\n",
       "      <th>4</th>\n",
       "      <td>apartment</td>\n",
       "      <td>Northeast</td>\n",
       "      <td>55</td>\n",
       "      <td>101416.71</td>\n",
       "      <td>-9.654955</td>\n",
       "      <td>-35.700227</td>\n",
       "      <td>Maceió</td>\n",
       "    </tr>\n",
       "    <tr>\n",
       "      <th>5</th>\n",
       "      <td>apartment</td>\n",
       "      <td>Northeast</td>\n",
       "      <td>56</td>\n",
       "      <td>75727.07</td>\n",
       "      <td>-9.614414</td>\n",
       "      <td>-35.735621</td>\n",
       "      <td>Maceió</td>\n",
       "    </tr>\n",
       "  </tbody>\n",
       "</table>\n",
       "</div>"
      ],
      "text/plain": [
       "  property_type     region  area_m2  price_usd       lat        lon   place\n",
       "0     apartment  Northeast      110  187230.85 -9.644305 -35.708814  Maceió\n",
       "1     apartment  Northeast       65   81133.37 -9.643093 -35.704840  Maceió\n",
       "3     apartment  Northeast       99  146013.20 -9.622837 -35.719556  Maceió\n",
       "4     apartment  Northeast       55  101416.71 -9.654955 -35.700227  Maceió\n",
       "5     apartment  Northeast       56   75727.07 -9.614414 -35.735621  Maceió"
      ]
     },
     "execution_count": 137,
     "metadata": {},
     "output_type": "execute_result"
    }
   ],
   "source": [
    "df = df[(df[\"property_type\"]==\"apartment\") & (df[\"region\"]== \"Northeast\")]\n",
    "df.head()"
   ]
  },
  {
   "cell_type": "code",
   "execution_count": 138,
   "id": "344eeeeb",
   "metadata": {},
   "outputs": [
    {
     "data": {
      "application/vnd.microsoft.datawrangler.viewer.v0+json": {
       "columns": [
        {
         "name": "index",
         "rawType": "object",
         "type": "string"
        },
        {
         "name": "0",
         "rawType": "int64",
         "type": "integer"
        }
       ],
       "ref": "16e2cbfd-a614-4a68-bf50-ce07d580d197",
       "rows": [
        [
         "property_type",
         "1"
        ],
        [
         "region",
         "1"
        ],
        [
         "area_m2",
         "187"
        ],
        [
         "price_usd",
         "1096"
        ],
        [
         "lat",
         "973"
        ],
        [
         "lon",
         "938"
        ],
        [
         "place",
         "30"
        ]
       ],
       "shape": {
        "columns": 1,
        "rows": 7
       }
      },
      "text/plain": [
       "property_type       1\n",
       "region              1\n",
       "area_m2           187\n",
       "price_usd        1096\n",
       "lat               973\n",
       "lon               938\n",
       "place              30\n",
       "dtype: int64"
      ]
     },
     "execution_count": 138,
     "metadata": {},
     "output_type": "execute_result"
    }
   ],
   "source": [
    "df.nunique()"
   ]
  },
  {
   "cell_type": "code",
   "execution_count": null,
   "id": "f7360c28",
   "metadata": {},
   "outputs": [],
   "source": [
    "df.drop(columns=[\"property_type\",\"region\"], inplace=True)"
   ]
  },
  {
   "cell_type": "code",
   "execution_count": 140,
   "id": "7fd4869a",
   "metadata": {},
   "outputs": [
    {
     "data": {
      "application/vnd.microsoft.datawrangler.viewer.v0+json": {
       "columns": [
        {
         "name": "index",
         "rawType": "int64",
         "type": "integer"
        },
        {
         "name": "area_m2",
         "rawType": "int64",
         "type": "integer"
        },
        {
         "name": "price_usd",
         "rawType": "float64",
         "type": "float"
        },
        {
         "name": "lat",
         "rawType": "float64",
         "type": "float"
        },
        {
         "name": "lon",
         "rawType": "float64",
         "type": "float"
        },
        {
         "name": "place",
         "rawType": "object",
         "type": "string"
        }
       ],
       "ref": "3e7e1dd9-bb8f-44f7-8b2e-fbcb44c4cfd3",
       "rows": [
        [
         "0",
         "110",
         "187230.85",
         "-9.6443051",
         "-35.7088142",
         "Maceió"
        ],
        [
         "1",
         "65",
         "81133.37",
         "-9.6430934",
         "-35.70484",
         "Maceió"
        ],
        [
         "3",
         "99",
         "146013.2",
         "-9.622837",
         "-35.719556",
         "Maceió"
        ],
        [
         "4",
         "55",
         "101416.71",
         "-9.654955",
         "-35.700227",
         "Maceió"
        ],
        [
         "5",
         "56",
         "75727.07",
         "-9.614414",
         "-35.735621",
         "Maceió"
        ]
       ],
       "shape": {
        "columns": 5,
        "rows": 5
       }
      },
      "text/html": [
       "<div>\n",
       "<style scoped>\n",
       "    .dataframe tbody tr th:only-of-type {\n",
       "        vertical-align: middle;\n",
       "    }\n",
       "\n",
       "    .dataframe tbody tr th {\n",
       "        vertical-align: top;\n",
       "    }\n",
       "\n",
       "    .dataframe thead th {\n",
       "        text-align: right;\n",
       "    }\n",
       "</style>\n",
       "<table border=\"1\" class=\"dataframe\">\n",
       "  <thead>\n",
       "    <tr style=\"text-align: right;\">\n",
       "      <th></th>\n",
       "      <th>area_m2</th>\n",
       "      <th>price_usd</th>\n",
       "      <th>lat</th>\n",
       "      <th>lon</th>\n",
       "      <th>place</th>\n",
       "    </tr>\n",
       "  </thead>\n",
       "  <tbody>\n",
       "    <tr>\n",
       "      <th>0</th>\n",
       "      <td>110</td>\n",
       "      <td>187230.85</td>\n",
       "      <td>-9.644305</td>\n",
       "      <td>-35.708814</td>\n",
       "      <td>Maceió</td>\n",
       "    </tr>\n",
       "    <tr>\n",
       "      <th>1</th>\n",
       "      <td>65</td>\n",
       "      <td>81133.37</td>\n",
       "      <td>-9.643093</td>\n",
       "      <td>-35.704840</td>\n",
       "      <td>Maceió</td>\n",
       "    </tr>\n",
       "    <tr>\n",
       "      <th>3</th>\n",
       "      <td>99</td>\n",
       "      <td>146013.20</td>\n",
       "      <td>-9.622837</td>\n",
       "      <td>-35.719556</td>\n",
       "      <td>Maceió</td>\n",
       "    </tr>\n",
       "    <tr>\n",
       "      <th>4</th>\n",
       "      <td>55</td>\n",
       "      <td>101416.71</td>\n",
       "      <td>-9.654955</td>\n",
       "      <td>-35.700227</td>\n",
       "      <td>Maceió</td>\n",
       "    </tr>\n",
       "    <tr>\n",
       "      <th>5</th>\n",
       "      <td>56</td>\n",
       "      <td>75727.07</td>\n",
       "      <td>-9.614414</td>\n",
       "      <td>-35.735621</td>\n",
       "      <td>Maceió</td>\n",
       "    </tr>\n",
       "  </tbody>\n",
       "</table>\n",
       "</div>"
      ],
      "text/plain": [
       "   area_m2  price_usd       lat        lon   place\n",
       "0      110  187230.85 -9.644305 -35.708814  Maceió\n",
       "1       65   81133.37 -9.643093 -35.704840  Maceió\n",
       "3       99  146013.20 -9.622837 -35.719556  Maceió\n",
       "4       55  101416.71 -9.654955 -35.700227  Maceió\n",
       "5       56   75727.07 -9.614414 -35.735621  Maceió"
      ]
     },
     "execution_count": 140,
     "metadata": {},
     "output_type": "execute_result"
    }
   ],
   "source": [
    "df.head()"
   ]
  },
  {
   "cell_type": "code",
   "execution_count": 142,
   "id": "78fb25a8",
   "metadata": {},
   "outputs": [
    {
     "name": "stdout",
     "output_type": "stream",
     "text": [
      "<class 'pandas.core.frame.DataFrame'> <class 'pandas.core.series.Series'>\n"
     ]
    }
   ],
   "source": [
    "target = \"price_usd\"\n",
    "Y= df[\"price_usd\"]\n",
    "X = df.drop(columns=[\"price_usd\"])\n",
    "print(type(X), type(Y))"
   ]
  }
 ],
 "metadata": {
  "kernelspec": {
   "display_name": "VENV_machine_learning_quant",
   "language": "python",
   "name": "python3"
  },
  "language_info": {
   "codemirror_mode": {
    "name": "ipython",
    "version": 3
   },
   "file_extension": ".py",
   "mimetype": "text/x-python",
   "name": "python",
   "nbconvert_exporter": "python",
   "pygments_lexer": "ipython3",
   "version": "3.12.10"
  }
 },
 "nbformat": 4,
 "nbformat_minor": 5
}

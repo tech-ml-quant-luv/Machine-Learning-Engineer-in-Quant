{
 "cells": [
  {
   "cell_type": "markdown",
   "id": "01c4c455",
   "metadata": {},
   "source": [
    "## Deep learning for predicting log returns for BTCUSD"
   ]
  },
  {
   "cell_type": "code",
   "execution_count": 1,
   "id": "38956135",
   "metadata": {},
   "outputs": [],
   "source": [
    "# Data and analysis libraries\n",
    "import polars as pl                         # Fast dataframes for financial data\n",
    "import numpy as np                          # Numerical computing library\n",
    "from datetime import datetime, timedelta    # Date and time operations\n",
    "import random\n",
    "\n",
    "\n",
    "# Machine learning libraries  \n",
    "import torch                                # PyTorch framework\n",
    "import torch.nn as nn                       # Neural network modules\n",
    "import torch.optim as optim                 # Optimization algorithms\n",
    "import research                             # Model building and training utilities\n",
    "\n",
    "\n",
    "# Visualization and \n",
    "import altair as alt                        # Interactive visualization library\n",
    "\n",
    "# data sources\n",
    "import binance                              # Binance market data utilities"
   ]
  },
  {
   "cell_type": "code",
   "execution_count": 2,
   "id": "e8751f7a",
   "metadata": {},
   "outputs": [],
   "source": [
    "research.set_seed(42)"
   ]
  },
  {
   "cell_type": "code",
   "execution_count": 3,
   "id": "389cd8a3",
   "metadata": {},
   "outputs": [
    {
     "data": {
      "text/plain": [
       "polars.config.Config"
      ]
     },
     "execution_count": 3,
     "metadata": {},
     "output_type": "execute_result"
    }
   ],
   "source": [
    "pl.Config.set_tbl_width_chars(200)\n",
    "pl.Config.set_fmt_str_lengths(100)\n",
    "pl.Config.set_tbl_cols(-1) #Show all colums"
   ]
  },
  {
   "cell_type": "markdown",
   "id": "3a33c66e",
   "metadata": {},
   "source": [
    "#### Getting Data from Binance"
   ]
  },
  {
   "cell_type": "code",
   "execution_count": null,
   "id": "679f0d0d",
   "metadata": {},
   "outputs": [],
   "source": [
    "#Trading pair symbol\n",
    "sym = \"BTCUSD\"\n",
    "#Historical data window in days (e.g., 6 months)\n",
    "hist_data_window = 7*4*6\n",
    "#time horizon of time series (time interval)\n",
    "time_interval = \"1h\"\n",
    "#max number of auto-regressive lags\n",
    "max-lags = 4\n",
    "#Forecast horizon\n",
    "forecast_horizon = 1\n",
    "#Sharpe annualzied rate (so it's independent of time frequency)"
   ]
  }
 ],
 "metadata": {
  "kernelspec": {
   "display_name": "machine_learning_quant_projects",
   "language": "python",
   "name": "python3"
  },
  "language_info": {
   "codemirror_mode": {
    "name": "ipython",
    "version": 3
   },
   "file_extension": ".py",
   "mimetype": "text/x-python",
   "name": "python",
   "nbconvert_exporter": "python",
   "pygments_lexer": "ipython3",
   "version": "3.12.10"
  }
 },
 "nbformat": 4,
 "nbformat_minor": 5
}

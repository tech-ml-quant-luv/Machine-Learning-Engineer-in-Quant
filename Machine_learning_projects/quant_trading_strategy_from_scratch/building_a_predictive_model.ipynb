{
 "cells": [
  {
   "cell_type": "markdown",
   "id": "dc5f5fb7",
   "metadata": {},
   "source": [
    "## Regression model to predict the log returns of BTCUSD"
   ]
  },
  {
   "cell_type": "markdown",
   "id": "418f5243",
   "metadata": {},
   "source": [
    "#### Why crypto?\n",
    "\n",
    "- Data is easily available\n",
    "- Order book data is also easily available\n",
    "- Still not too many players in the market.\n",
    "- This model will work in every market by tweaking the training data"
   ]
  },
  {
   "cell_type": "markdown",
   "id": "7aea76a9",
   "metadata": {},
   "source": [
    "- Polars is much faster than pandas"
   ]
  },
  {
   "cell_type": "code",
   "execution_count": 3,
   "id": "b4b85685",
   "metadata": {},
   "outputs": [],
   "source": [
    "import torch\n",
    "import pandas as pd\n",
    "import numpy as np\n",
    "import matplotlib.pyplot as plt\n",
    "import seaborn as sns\n",
    "import polars as ps"
   ]
  }
 ],
 "metadata": {
  "kernelspec": {
   "display_name": "machine_learning_quant_projects",
   "language": "python",
   "name": "python3"
  },
  "language_info": {
   "codemirror_mode": {
    "name": "ipython",
    "version": 3
   },
   "file_extension": ".py",
   "mimetype": "text/x-python",
   "name": "python",
   "nbconvert_exporter": "python",
   "pygments_lexer": "ipython3",
   "version": "3.12.10"
  }
 },
 "nbformat": 4,
 "nbformat_minor": 5
}
